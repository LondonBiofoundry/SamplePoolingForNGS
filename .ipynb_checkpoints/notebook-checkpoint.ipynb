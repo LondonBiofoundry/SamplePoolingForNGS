{
 "cells": [
  {
   "cell_type": "code",
   "execution_count": 415,
   "id": "b6df1d56",
   "metadata": {},
   "outputs": [],
   "source": [
    "import numpy as np\n",
    "import pandas as pd\n",
    "import csv \n",
    "import sys"
   ]
  },
  {
   "cell_type": "code",
   "execution_count": 416,
   "id": "dbfee699",
   "metadata": {},
   "outputs": [],
   "source": [
    "# Inputs\n",
    "input_file_folder = \"/Users/keltoumboukra/Desktop/Coding projects - Git/SamplePoolingForNGS/Files/\"\n",
    "input_file_name = \"qubit_data.CSV\"\n",
    "\n",
    "# final desired vol (nL)\n",
    "final_pool_vol = 100000\n",
    "\n",
    "# well position of pool in output plate\n",
    "pool_well_in_output_plate = \"A1\"\n",
    "\n",
    "# minimum volume to be pipetted (nL)\n",
    "min_vol = 25 # for Echo\n",
    "\n",
    "# Dataframes\n",
    "input_file_df = pd.read_csv(input_file_folder + input_file_name)\n",
    "input_file_df.rename(columns={input_file_df.columns[2]: \"Concentration\"},inplace=True)\n",
    "\n",
    "# Delete standards/negative values from the input dataframe\n",
    "for row in input_file_df.itertuples():\n",
    "    \n",
    "    Index = row [0]\n",
    "    Well = row[1]\n",
    "    Content = row[2]\n",
    "    Concentration = row[3]\n",
    "    \n",
    "    #if \"Standard\" in Content:\n",
    "        #input_file_df = input_file_df.drop(Index)\n",
    "        #input_file_df = input_file_df.reset_index(drop=True)\n",
    "    #if Concentration < 0:\n",
    "        #input_file_df = input_file_df.drop(Index)\n",
    "        #input_file_df = input_file_df.reset_index(drop=True)\n",
    "        #log in report file"
   ]
  },
  {
   "cell_type": "code",
   "execution_count": 417,
   "id": "ebabd778",
   "metadata": {},
   "outputs": [
    {
     "data": {
      "text/html": [
       "<div>\n",
       "<style scoped>\n",
       "    .dataframe tbody tr th:only-of-type {\n",
       "        vertical-align: middle;\n",
       "    }\n",
       "\n",
       "    .dataframe tbody tr th {\n",
       "        vertical-align: top;\n",
       "    }\n",
       "\n",
       "    .dataframe thead th {\n",
       "        text-align: right;\n",
       "    }\n",
       "</style>\n",
       "<table border=\"1\" class=\"dataframe\">\n",
       "  <thead>\n",
       "    <tr style=\"text-align: right;\">\n",
       "      <th></th>\n",
       "      <th>Sample Well ID</th>\n",
       "      <th>Sample Concentration</th>\n",
       "      <th>Sample Calculated Weight</th>\n",
       "      <th>Sample Calculated Weight Normalised</th>\n",
       "      <th>Sample Calculated Volume In Pool</th>\n",
       "    </tr>\n",
       "  </thead>\n",
       "  <tbody>\n",
       "  </tbody>\n",
       "</table>\n",
       "</div>"
      ],
      "text/plain": [
       "Empty DataFrame\n",
       "Columns: [Sample Well ID, Sample Concentration, Sample Calculated Weight, Sample Calculated Weight Normalised, Sample Calculated Volume In Pool]\n",
       "Index: []"
      ]
     },
     "execution_count": 417,
     "metadata": {},
     "output_type": "execute_result"
    }
   ],
   "source": [
    "# Outputs\n",
    "output_files_folder = \"/Users/keltoumboukra/Desktop/Coding projects - Git/SamplePoolingForNGS/Files/\"\n",
    "output_file_name = \"OutputExample.csv\"\n",
    "output_file_df = pd.DataFrame(columns=['Sample Well ID','Sample Concentration','Sample Calculated Weight', 'Sample Calculated Weight Normalised', 'Sample Calculated Volume In Pool'])\n",
    "\n",
    "output_echo_file_name = \"QubitOutputEcho.csv\"\n",
    "output_echo_file_df = pd.DataFrame(columns=['Source Well','Destination Well','Transfer Volume'])\n",
    "output_file_df"
   ]
  },
  {
   "cell_type": "code",
   "execution_count": 418,
   "id": "d0979b27",
   "metadata": {},
   "outputs": [],
   "source": [
    "# Calculate Weights \n",
    "\n",
    "max_concentration = input_file_df['Concentration'].max()\n",
    "sum_weights = float()\n",
    "\n",
    "for row in input_file_df.itertuples():\n",
    "    \n",
    "    Index = row [0]\n",
    "    Well = row[1]\n",
    "    Concentration = row[3]\n",
    "\n",
    "    sample_weight = max_concentration/Concentration\n",
    "    sum_weights += sample_weight\n",
    "    output_file_df = output_file_df.append({'Sample Well ID': Well, 'Sample Concentration': Concentration, 'Sample Calculated Weight': sample_weight}, ignore_index=True)    "
   ]
  },
  {
   "cell_type": "code",
   "execution_count": 419,
   "id": "aaf8e664",
   "metadata": {},
   "outputs": [],
   "source": [
    "# Calculate Normalised Weights \n",
    "\n",
    "sum_normalised_weights = float(0)\n",
    "for row in input_file_df.itertuples():\n",
    "    \n",
    "    Index = row [0]\n",
    "    Well = row[1]\n",
    "    Concentration = row[3]\n",
    "    \n",
    "    sample_normalised_weight = output_file_df[\"Sample Calculated Weight\"].iloc[Index]/sum_weights\n",
    "    sum_normalised_weights += sample_normalised_weight # for QC, should be =1\n",
    "    output_file_df.at[Index,'Sample Calculated Weight Normalised']=sample_normalised_weight"
   ]
  },
  {
   "cell_type": "code",
   "execution_count": 420,
   "id": "cda6adaa",
   "metadata": {},
   "outputs": [],
   "source": [
    "# Calculate Volume to pipette for each sample in the final pool\n",
    "\n",
    "vol_in_pool = float()\n",
    "sum_vol_in_pool = float(0)\n",
    "\n",
    "for row in input_file_df.itertuples():\n",
    "    \n",
    "    Index = row [0]\n",
    "    Well = row[1]\n",
    "    Concentration = row[3]\n",
    "    \n",
    "    vol_in_pool = output_file_df[\"Sample Calculated Weight Normalised\"].iloc[Index]*final_pool_vol \n",
    "    sum_vol_in_pool += vol_in_pool # for QC, should be = final_pool_vol\n",
    "    output_file_df.at[Index,'Sample Calculated Volume In Pool']=vol_in_pool  \n",
    "    output_echo_file_df = output_echo_file_df.append({'Source Well': Well, 'Destination Well': pool_well_in_output_plate, 'Transfer Volume': vol_in_pool}, ignore_index=True)     \n",
    "    "
   ]
  },
  {
   "cell_type": "code",
   "execution_count": null,
   "id": "7d4275b6",
   "metadata": {},
   "outputs": [],
   "source": []
  },
  {
   "cell_type": "code",
   "execution_count": 421,
   "id": "2f828af4",
   "metadata": {},
   "outputs": [],
   "source": [
    "output_file_df.to_csv(output_files_folder + output_file_name, index=False)\n",
    "output_echo_file_df.to_csv(output_files_folder + output_echo_file_name, index=False)"
   ]
  },
  {
   "cell_type": "code",
   "execution_count": null,
   "id": "b93fa105",
   "metadata": {},
   "outputs": [],
   "source": []
  }
 ],
 "metadata": {
  "kernelspec": {
   "display_name": "Python 3 (ipykernel)",
   "language": "python",
   "name": "python3"
  },
  "language_info": {
   "codemirror_mode": {
    "name": "ipython",
    "version": 3
   },
   "file_extension": ".py",
   "mimetype": "text/x-python",
   "name": "python",
   "nbconvert_exporter": "python",
   "pygments_lexer": "ipython3",
   "version": "3.7.4"
  }
 },
 "nbformat": 4,
 "nbformat_minor": 5
}
