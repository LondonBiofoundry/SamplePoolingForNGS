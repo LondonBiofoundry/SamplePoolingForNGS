{
 "cells": [
  {
   "cell_type": "code",
   "execution_count": 37,
   "id": "b6df1d56",
   "metadata": {},
   "outputs": [],
   "source": [
    "import numpy as np\n",
    "import pandas as pd\n",
    "import csv \n",
    "import sys"
   ]
  },
  {
   "cell_type": "code",
   "execution_count": 38,
   "id": "3a5870bf",
   "metadata": {},
   "outputs": [],
   "source": [
    "#inputs\n",
    "input_file_folder = \"/Users/keltoumboukra/Desktop/Coding projects - Git/SamplePoolingForNGS/Files/\"\n",
    "input_file_name = \"InputExample.csv\""
   ]
  },
  {
   "cell_type": "code",
   "execution_count": 39,
   "id": "3765a29e",
   "metadata": {},
   "outputs": [],
   "source": [
    "#outputs\n",
    "output_file_fodler = \"/Users/keltoumboukra/Desktop/Coding projects - Git/SamplePoolingForNGS/Files/\"\n",
    "output_file_name = \"OutputExample.csv\""
   ]
  },
  {
   "cell_type": "code",
   "execution_count": 40,
   "id": "19593eb5",
   "metadata": {},
   "outputs": [],
   "source": [
    "#dataframes\n",
    "input_file_df = pd.read_csv(input_file_folder + input_file_name)\n",
    "output_file_df = pd.DataFrame(columns=['Sample Well ID','Sample Concentration','Sample Calculated Weight', 'Sample Calculated Weight Normalised', 'Sample Calculated Volume In Pool'])"
   ]
  },
  {
   "cell_type": "code",
   "execution_count": 50,
   "id": "0e098a99",
   "metadata": {},
   "outputs": [],
   "source": [
    "#weights \n",
    "\n",
    "max_concentration = input_file_df['Concentration'].max()\n",
    "max_weight = 0"
   ]
  },
  {
   "cell_type": "code",
   "execution_count": 51,
   "id": "e0383e16",
   "metadata": {},
   "outputs": [
    {
     "name": "stdout",
     "output_type": "stream",
     "text": [
      "Max weight:2.4347826086956523\n",
      "Max weight:56.0\n",
      "Exception has occured for well D1\n"
     ]
    }
   ],
   "source": [
    "for row in input_file_df.itertuples():\n",
    "    \n",
    "    Index = row [0]\n",
    "    Well = row[1]\n",
    "    Concentration = row[2] \n",
    "    \n",
    "    if Concentration > 0:\n",
    "        sample_weight = max_concentration/Concentration\n",
    "        output_file_df = output_file_df.append({'Sample Well ID': Well, 'Sample Concentration': Concentration, 'Sample Calculated Weight': sample_weight}, ignore_index=True)\n",
    "        if sample_weight > max_weight:\n",
    "            max_weight = sample_weight\n",
    "            print(\"Max weight:{}\".format(max_weight))\n",
    "    else:\n",
    "        print(\"Exception has occured for well {}\".format(Well))"
   ]
  },
  {
   "cell_type": "code",
   "execution_count": 43,
   "id": "f1b07f8c",
   "metadata": {},
   "outputs": [
    {
     "data": {
      "text/html": [
       "<div>\n",
       "<style scoped>\n",
       "    .dataframe tbody tr th:only-of-type {\n",
       "        vertical-align: middle;\n",
       "    }\n",
       "\n",
       "    .dataframe tbody tr th {\n",
       "        vertical-align: top;\n",
       "    }\n",
       "\n",
       "    .dataframe thead th {\n",
       "        text-align: right;\n",
       "    }\n",
       "</style>\n",
       "<table border=\"1\" class=\"dataframe\">\n",
       "  <thead>\n",
       "    <tr style=\"text-align: right;\">\n",
       "      <th></th>\n",
       "      <th>Sample Well ID</th>\n",
       "      <th>Sample Concentration</th>\n",
       "      <th>Sample Calculated Weight</th>\n",
       "      <th>Sample Calculated Weight Normalised</th>\n",
       "      <th>Sample Calculated Volume In Pool</th>\n",
       "    </tr>\n",
       "  </thead>\n",
       "  <tbody>\n",
       "    <tr>\n",
       "      <td>0</td>\n",
       "      <td>A1</td>\n",
       "      <td>23</td>\n",
       "      <td>2.434783</td>\n",
       "      <td>NaN</td>\n",
       "      <td>NaN</td>\n",
       "    </tr>\n",
       "    <tr>\n",
       "      <td>1</td>\n",
       "      <td>B1</td>\n",
       "      <td>56</td>\n",
       "      <td>1.000000</td>\n",
       "      <td>NaN</td>\n",
       "      <td>NaN</td>\n",
       "    </tr>\n",
       "    <tr>\n",
       "      <td>2</td>\n",
       "      <td>C1</td>\n",
       "      <td>1</td>\n",
       "      <td>56.000000</td>\n",
       "      <td>NaN</td>\n",
       "      <td>NaN</td>\n",
       "    </tr>\n",
       "    <tr>\n",
       "      <td>3</td>\n",
       "      <td>D1</td>\n",
       "      <td>0</td>\n",
       "      <td>inf</td>\n",
       "      <td>NaN</td>\n",
       "      <td>NaN</td>\n",
       "    </tr>\n",
       "  </tbody>\n",
       "</table>\n",
       "</div>"
      ],
      "text/plain": [
       "  Sample Well ID Sample Concentration  Sample Calculated Weight  \\\n",
       "0             A1                   23                  2.434783   \n",
       "1             B1                   56                  1.000000   \n",
       "2             C1                    1                 56.000000   \n",
       "3             D1                    0                       inf   \n",
       "\n",
       "   Sample Calculated Weight Normalised  Sample Calculated Volume In Pool  \n",
       "0                                  NaN                               NaN  \n",
       "1                                  NaN                               NaN  \n",
       "2                                  NaN                               NaN  \n",
       "3                                  NaN                               NaN  "
      ]
     },
     "execution_count": 43,
     "metadata": {},
     "output_type": "execute_result"
    }
   ],
   "source": [
    "output_file_df"
   ]
  },
  {
   "cell_type": "code",
   "execution_count": null,
   "id": "6d8fe921",
   "metadata": {},
   "outputs": [],
   "source": []
  }
 ],
 "metadata": {
  "kernelspec": {
   "display_name": "Python 3 (ipykernel)",
   "language": "python",
   "name": "python3"
  },
  "language_info": {
   "codemirror_mode": {
    "name": "ipython",
    "version": 3
   },
   "file_extension": ".py",
   "mimetype": "text/x-python",
   "name": "python",
   "nbconvert_exporter": "python",
   "pygments_lexer": "ipython3",
   "version": "3.7.4"
  }
 },
 "nbformat": 4,
 "nbformat_minor": 5
}
