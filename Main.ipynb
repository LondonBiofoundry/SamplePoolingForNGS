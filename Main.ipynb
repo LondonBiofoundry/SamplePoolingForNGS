{
 "cells": [
  {
   "cell_type": "code",
   "execution_count": 185,
   "id": "b6df1d56",
   "metadata": {},
   "outputs": [],
   "source": [
    "import numpy as np\n",
    "import pandas as pd\n",
    "import csv \n",
    "import sys"
   ]
  },
  {
   "cell_type": "code",
   "execution_count": 186,
   "id": "d9a96e22",
   "metadata": {},
   "outputs": [],
   "source": [
    "# Inputs\n",
    "input_file_folder = \"/Users/keltoumboukra/Desktop/Coding projects - Git/SamplePoolingForNGS/Files/\"\n",
    "input_file_name = \"InputTrimTest.csv\"\n",
    "\n",
    "# final desired vol (nL)\n",
    "final_pool_vol = 10000\n",
    "\n",
    "# well position of pool in output plate\n",
    "pool_well_in_output_plate = \"A1\"\n",
    "\n",
    "# minimum volume to be pipetted (nL)\n",
    "min_pipetting_capacity = float(25) # for Echo\n",
    "\n",
    "# minimum volume that can be pipetted \n",
    "vol_available_in_well = 5000 # for e.g, if there is 20 uL in the well, 5000 nL is what can be available as 15 uL is the minimum working range in the PP-0200 Echo plate)\n",
    "\n",
    "# Dataframes\n",
    "input_file_df = pd.read_csv(input_file_folder + input_file_name)\n",
    "input_file_df.rename(columns={input_file_df.columns[2]: \"Concentration\"},inplace=True)\n",
    "\n",
    "\n"
   ]
  },
  {
   "cell_type": "code",
   "execution_count": 187,
   "id": "855698a1",
   "metadata": {},
   "outputs": [],
   "source": [
    "# Outputs\n",
    "output_files_folder = \"/Users/keltoumboukra/Desktop/Coding projects - Git/SamplePoolingForNGS/Files/\"\n",
    "output_file_name = \"Output_trim.CSV\"\n",
    "output_file_df = pd.DataFrame(columns=['Sample Well ID','Sample Concentration','Sample Calculated Weight', 'Sample Calculated Weight Normalised', 'Sample Calculated Volume In Pool'])\n",
    "\n",
    "output_echo_file_name = \"Output_trim_QubitOutputEcho.csv\"\n",
    "output_echo_file_df = pd.DataFrame(columns=['Source Well','Destination Well','Transfer Volume'])\n",
    "\n",
    "output_files_folder = \"/Users/keltoumboukra/Desktop/Coding projects - Git/SamplePoolingForNGS/Files/\"\n",
    "output_report_name = \"Output_trim_report.CSV\"\n",
    "output_report_df = pd.DataFrame(columns=['Sample Well ID','Sample Concentration','Comment'])\n"
   ]
  },
  {
   "cell_type": "code",
   "execution_count": 188,
   "id": "0cdf3bf3",
   "metadata": {},
   "outputs": [],
   "source": [
    "# Trim input data frame \n",
    "\n",
    "# Remove standards \n",
    "input_file_df = input_file_df[input_file_df[\"Content\"].str.contains(\"Standard\") == False]\n",
    "input_file_df = input_file_df.reset_index(drop=True)\n",
    "\n",
    "# Remove samples with negative concentrations and add to output report\n",
    "for row in input_file_df.itertuples():\n",
    "    \n",
    "    Index = row [0]\n",
    "    Well = row[1]\n",
    "    Concentration = row[3]\n",
    "    \n",
    "    if Concentration <= 0:\n",
    "        output_report_df = output_report_df.append({'Sample Well ID': Well, 'Sample Concentration': Concentration, 'Comment': \"Sample has negative value for concentration\"}, ignore_index=True)\n",
    "        input_file_df = input_file_df.drop(Index)\n",
    "\n",
    "input_file_df = input_file_df.reset_index(drop=True)\n",
    "output_report_df = output_report_df.reset_index(drop=True)\n"
   ]
  },
  {
   "cell_type": "code",
   "execution_count": 189,
   "id": "d0c95a21",
   "metadata": {},
   "outputs": [],
   "source": [
    "# Calculate Weights \n",
    "\n",
    "max_concentration = input_file_df['Concentration'].max()\n",
    "sum_weights = float()\n",
    "\n",
    "for row in input_file_df.itertuples():\n",
    "    \n",
    "    Index = row [0]\n",
    "    Well = row[1]\n",
    "    Concentration = row[3]\n",
    "\n",
    "    sample_weight = max_concentration/Concentration\n",
    "    sum_weights += sample_weight\n",
    "    output_file_df = output_file_df.append({'Sample Well ID': Well, 'Sample Concentration': Concentration, 'Sample Calculated Weight': sample_weight}, ignore_index=True)  \n",
    "    "
   ]
  },
  {
   "cell_type": "code",
   "execution_count": 190,
   "id": "ece0ef2a",
   "metadata": {},
   "outputs": [],
   "source": [
    "# Calculate Normalised Weights \n",
    "\n",
    "sum_normalised_weights = float(0)\n",
    "for row in input_file_df.itertuples():\n",
    "    \n",
    "    Index = row [0]\n",
    "    Well = row[1]\n",
    "    Concentration = row[3]\n",
    "    \n",
    "    sample_normalised_weight = output_file_df[\"Sample Calculated Weight\"].iloc[Index]/sum_weights\n",
    "    sum_normalised_weights += sample_normalised_weight # for QC, should be =1\n",
    "    output_file_df.at[Index,'Sample Calculated Weight Normalised']=sample_normalised_weight\n"
   ]
  },
  {
   "cell_type": "code",
   "execution_count": 191,
   "id": "a3ba5600",
   "metadata": {},
   "outputs": [],
   "source": [
    "# Calculate Volume to pipette for each sample in the final pool\n",
    "\n",
    "vol_in_pool = float()\n",
    "sum_vol_in_pool = float(0)\n",
    "fail_bool = bool(0)\n",
    "\n",
    "for row in input_file_df.itertuples():\n",
    "    \n",
    "    Index = row [0]\n",
    "    Well = row[1]\n",
    "    Concentration = row[3]\n",
    "    \n",
    "    vol_in_pool = output_file_df[\"Sample Calculated Weight Normalised\"].iloc[Index]*final_pool_vol \n",
    "    sum_vol_in_pool += vol_in_pool # for QC, should be = final_pool_vol  \n",
    "    \n",
    "    if vol_in_pool < min_pipetting_capacity:\n",
    "        output_report_df = output_report_df.append({'Sample Well ID': Well, 'Sample Concentration': Concentration, 'Comment': \"Volume to be pipetted for this well ({} nL) is smaller than pipetting capacity ({} nL). You MUST reprocess the file\".format(vol_in_pool,min_pipetting_capacity)}, ignore_index=True)\n",
    "        fail_bool = bool(1)\n",
    "    elif vol_in_pool > vol_available_in_well:\n",
    "        output_report_df = output_report_df.append({'Sample Well ID': Well, 'Sample Concentration': Concentration, 'Comment': \"Volume to be pipetted for this well ({} nL) is larger than the volume available ({} nL). You MUST reprocess the file\".format(vol_in_pool,vol_available_in_well)}, ignore_index=True)\n",
    "        fail_bool = bool(1)\n",
    "    else:\n",
    "        output_file_df.at[Index,'Sample Calculated Volume In Pool']=vol_in_pool\n",
    "        output_echo_file_df = output_echo_file_df.append({'Source Well': Well, 'Destination Well': pool_well_in_output_plate, 'Transfer Volume': vol_in_pool}, ignore_index=True)     "
   ]
  },
  {
   "cell_type": "code",
   "execution_count": 192,
   "id": "0512a91f",
   "metadata": {},
   "outputs": [],
   "source": [
    "if fail_bool = bool(1):\n",
    "    print(\"Processing failed. The concentration of 1 sample or more is out of range. Check report file for details\")\n",
    "else:\n",
    "    print(\"Processing successful! Check output file folder for processing details, report and \")\n",
    "    output_file_df.to_csv(output_files_folder + output_file_name, index=False)\n",
    "    output_echo_file_df.to_csv(output_files_folder + output_echo_file_name, index=False)\n",
    "\n",
    "output_report_df.to_csv(output_files_folder + output_report_name, index=False)"
   ]
  },
  {
   "cell_type": "code",
   "execution_count": null,
   "id": "d9e036fd",
   "metadata": {},
   "outputs": [],
   "source": []
  },
  {
   "cell_type": "code",
   "execution_count": null,
   "id": "fb7d1882",
   "metadata": {},
   "outputs": [],
   "source": []
  }
 ],
 "metadata": {
  "kernelspec": {
   "display_name": "Python 3 (ipykernel)",
   "language": "python",
   "name": "python3"
  },
  "language_info": {
   "codemirror_mode": {
    "name": "ipython",
    "version": 3
   },
   "file_extension": ".py",
   "mimetype": "text/x-python",
   "name": "python",
   "nbconvert_exporter": "python",
   "pygments_lexer": "ipython3",
   "version": "3.7.4"
  }
 },
 "nbformat": 4,
 "nbformat_minor": 5
}
